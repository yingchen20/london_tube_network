{
 "cells": [
  {
   "cell_type": "markdown",
   "metadata": {},
   "source": [
    "# p2 - Underground Commuters \n"
   ]
  },
  {
   "cell_type": "code",
   "execution_count": 1,
   "metadata": {},
   "outputs": [],
   "source": [
    "import networkx as nx\n",
    "import matplotlib.pyplot as plt\n",
    "import numpy as np\n",
    "import os"
   ]
  },
  {
   "cell_type": "code",
   "execution_count": 2,
   "metadata": {},
   "outputs": [
    {
     "data": {
      "text/plain": [
       "'/Users/yingchen/Documents2/CASA/urban_simulation/practical/wk7/Week_7_final'"
      ]
     },
     "execution_count": 2,
     "metadata": {},
     "output_type": "execute_result"
    }
   ],
   "source": [
    "#we are going to read the tube network from the shape file\n",
    "#first, check current directory\n",
    "os.getcwd()"
   ]
  },
  {
   "cell_type": "code",
   "execution_count": 3,
   "metadata": {},
   "outputs": [],
   "source": [
    "# You need to set the working directory to where you have your shapefile data\n",
    "os.chdir('underground')\n",
    "\n",
    "# Let's create a graph from the shapefile\n",
    "g_shp=nx.read_shp('underground.shp',geom_attrs=False)"
   ]
  },
  {
   "cell_type": "code",
   "execution_count": 4,
   "metadata": {},
   "outputs": [],
   "source": [
    "#we will need to add station names as attributes of the nodes:\n",
    "nod_st1={(e1):weight for e1, e2, weight in g_shp.edges(data='station_1_')}\n",
    "nod_st2={(e2):weight for e1, e2, weight in g_shp.edges(data='station_2_')}\n",
    "#nod_all = {**nod_st1, **nod_st2} #for python 3.5 and greater\n",
    "\n",
    "#In Python 2, (or 3.4 or lower) write a function\n",
    "nod_all = nod_st1.copy()   # start with x's keys and values\n",
    "nod_all.update(nod_st2)\n",
    "\n",
    "nx.set_node_attributes(g_shp,nod_all,'station')\n",
    "\n",
    "# get the nodes attributes:\n",
    "#list(g_shp.nodes(data=True))[0:10]"
   ]
  },
  {
   "cell_type": "code",
   "execution_count": 5,
   "metadata": {},
   "outputs": [
    {
     "data": {
      "text/plain": [
       "((-0.1571, 51.5226),\n",
       " {'station': 'Baker Street', 'station_coord': (-0.1571, 51.5226)})"
      ]
     },
     "execution_count": 5,
     "metadata": {},
     "output_type": "execute_result"
    }
   ],
   "source": [
    "#do we want this graph to be a directed one? In fact, only a few links in the dataset are directed\n",
    "\n",
    "# We can transform the type of graph from directed to undirected using the following function:\n",
    "g_shp_un = g_shp.to_undirected()\n",
    "\n",
    "#Finally, we will give an ID to each node(station), such that it will be easier later to call them:\n",
    "#1.Create a new attribute with node coordinates (now coord are the keys and we do not want to lose that information\n",
    "nod_coord = {(e1):e1 for e1 in g_shp_un.nodes()}\n",
    "nx.set_node_attributes(g_shp_un,nod_coord,'station_coord')\n",
    "list(g_shp_un.nodes(data=True))[0]\n"
   ]
  },
  {
   "cell_type": "code",
   "execution_count": 6,
   "metadata": {},
   "outputs": [
    {
     "data": {
      "text/plain": [
       "(0, {'station': 'Baker Street', 'station_coord': (-0.1571, 51.5226)})"
      ]
     },
     "execution_count": 6,
     "metadata": {},
     "output_type": "execute_result"
    }
   ],
   "source": [
    "#2.now relabel each node with an ordered integer:\n",
    "node_list = list(g_shp_un.nodes())\n",
    "mapping = {node_list[i]:i for i in range(len(node_list))}\n",
    "g_shp_un = nx.relabel_nodes(g_shp_un, mapping)\n",
    "list(g_shp_un.nodes(data=True))[0]"
   ]
  },
  {
   "cell_type": "code",
   "execution_count": 7,
   "metadata": {},
   "outputs": [
    {
     "data": {
      "text/plain": [
       "[(258, 'Heathrow Terminals 1, 2 & 3'), (259, 'Heathrow Terminal 4')]"
      ]
     },
     "execution_count": 7,
     "metadata": {},
     "output_type": "execute_result"
    }
   ],
   "source": [
    "#Later when using the Commuters data we will have an issue mapping node 'Heathrow Terminals 1, 2 & 3', \n",
    "#so we are going to rename it here:\n",
    "#1. find the node 'Heathrow Terminals 1, 2 & 3'\n",
    "nodes = [(x,y) for x,y in g_shp_un.nodes(data='station') if 'Heathrow' in str(y)]\n",
    "nodes"
   ]
  },
  {
   "cell_type": "code",
   "execution_count": 8,
   "metadata": {},
   "outputs": [],
   "source": [
    "#2.Rename it with the name given by the the commuters file (see later):\n",
    "g_shp_un.nodes[258]['station']='Heathrow Terminals 123'"
   ]
  },
  {
   "cell_type": "markdown",
   "metadata": {},
   "source": [
    "## Commuters flows in the tube network\n",
    "\n",
    "We are going to create the flows of commuters travelling between any pair of tube stations"
   ]
  },
  {
   "cell_type": "code",
   "execution_count": 9,
   "metadata": {},
   "outputs": [
    {
     "data": {
      "text/plain": [
       "'/Users/yingchen/Documents2/CASA/urban_simulation/practical/wk7/Week_7_final/underground'"
      ]
     },
     "execution_count": 9,
     "metadata": {},
     "output_type": "execute_result"
    }
   ],
   "source": [
    "import pandas as pd\n",
    "#First, we read the csv file with commuting flows starting and ending between stations, called Origin-Destination:\n",
    "#Check you are in the correct directory to read the csv \n",
    "os.getcwd()"
   ]
  },
  {
   "cell_type": "code",
   "execution_count": 10,
   "metadata": {},
   "outputs": [
    {
     "data": {
      "text/plain": [
       "'/Users/yingchen/Documents2/CASA/urban_simulation/practical/wk7/Week_7_final'"
      ]
     },
     "execution_count": 10,
     "metadata": {},
     "output_type": "execute_result"
    }
   ],
   "source": [
    "os.chdir('..')\n",
    "os.getcwd()"
   ]
  },
  {
   "cell_type": "code",
   "execution_count": 11,
   "metadata": {},
   "outputs": [
    {
     "data": {
      "text/html": [
       "<div>\n",
       "<style scoped>\n",
       "    .dataframe tbody tr th:only-of-type {\n",
       "        vertical-align: middle;\n",
       "    }\n",
       "\n",
       "    .dataframe tbody tr th {\n",
       "        vertical-align: top;\n",
       "    }\n",
       "\n",
       "    .dataframe thead th {\n",
       "        text-align: right;\n",
       "    }\n",
       "</style>\n",
       "<table border=\"1\" class=\"dataframe\">\n",
       "  <thead>\n",
       "    <tr style=\"text-align: right;\">\n",
       "      <th></th>\n",
       "      <th>From</th>\n",
       "      <th>station_name</th>\n",
       "      <th>To</th>\n",
       "      <th>station_name.1</th>\n",
       "      <th>total_wtrips</th>\n",
       "    </tr>\n",
       "  </thead>\n",
       "  <tbody>\n",
       "    <tr>\n",
       "      <th>0</th>\n",
       "      <td>500</td>\n",
       "      <td>Acton Town</td>\n",
       "      <td>505</td>\n",
       "      <td>Alperton</td>\n",
       "      <td>143</td>\n",
       "    </tr>\n",
       "    <tr>\n",
       "      <th>1</th>\n",
       "      <td>500</td>\n",
       "      <td>Acton Town</td>\n",
       "      <td>506</td>\n",
       "      <td>Amersham</td>\n",
       "      <td>22</td>\n",
       "    </tr>\n",
       "    <tr>\n",
       "      <th>2</th>\n",
       "      <td>500</td>\n",
       "      <td>Acton Town</td>\n",
       "      <td>507</td>\n",
       "      <td>Angel</td>\n",
       "      <td>15</td>\n",
       "    </tr>\n",
       "    <tr>\n",
       "      <th>3</th>\n",
       "      <td>500</td>\n",
       "      <td>Acton Town</td>\n",
       "      <td>508</td>\n",
       "      <td>Archway</td>\n",
       "      <td>9</td>\n",
       "    </tr>\n",
       "    <tr>\n",
       "      <th>4</th>\n",
       "      <td>500</td>\n",
       "      <td>Acton Town</td>\n",
       "      <td>510</td>\n",
       "      <td>Arsenal</td>\n",
       "      <td>9</td>\n",
       "    </tr>\n",
       "  </tbody>\n",
       "</table>\n",
       "</div>"
      ],
      "text/plain": [
       "   From station_name   To station_name.1  total_wtrips\n",
       "0   500   Acton Town  505       Alperton           143\n",
       "1   500   Acton Town  506       Amersham            22\n",
       "2   500   Acton Town  507          Angel            15\n",
       "3   500   Acton Town  508        Archway             9\n",
       "4   500   Acton Town  510        Arsenal             9"
      ]
     },
     "execution_count": 11,
     "metadata": {},
     "output_type": "execute_result"
    }
   ],
   "source": [
    "# Read Origin-Destination table from the csv\n",
    "orig_dest = pd.read_csv('ODtube2017.csv')\n",
    "orig_dest.head()"
   ]
  },
  {
   "cell_type": "code",
   "execution_count": 12,
   "metadata": {},
   "outputs": [],
   "source": [
    "#This can be seen as a network by itself:\n",
    "g_OD = nx.from_pandas_edgelist(orig_dest, 'station_name', 'station_name.1',['total_wtrips'],create_using=nx.MultiDiGraph)"
   ]
  },
  {
   "cell_type": "code",
   "execution_count": 13,
   "metadata": {},
   "outputs": [
    {
     "name": "stdout",
     "output_type": "stream",
     "text": [
      "[('Acton Town', {'station': 'Acton Town'}), ('Alperton', {'station': 'Alperton'}), ('Amersham', {'station': 'Amersham'}), ('Angel', {'station': 'Angel'}), ('Archway', {'station': 'Archway'}), ('Arsenal', {'station': 'Arsenal'}), ('Baker Street', {'station': 'Baker Street'}), ('Bank', {'station': 'Bank'}), ('Barbican', {'station': 'Barbican'}), ('Barons Court', {'station': 'Barons Court'})]\n"
     ]
    }
   ],
   "source": [
    "#Change the names of nodes by the id in g_shp_un (tube network):\n",
    "\n",
    "#1.Copy name as an attribute:\n",
    "nod_names={(e1):e1 for e1 in g_OD.nodes()}\n",
    "nx.set_node_attributes(g_OD,nod_names,'station') #with nod_id1 or nod_id2 is enought\n",
    "print(list(g_OD.nodes(data=True))[:10])"
   ]
  },
  {
   "cell_type": "code",
   "execution_count": 14,
   "metadata": {},
   "outputs": [
    {
     "name": "stdout",
     "output_type": "stream",
     "text": [
      "[(111, {'station': 'Acton Town'}), (238, {'station': 'Alperton'}), (172, {'station': 'Amersham'}), (196, {'station': 'Angel'}), (198, {'station': 'Archway'}), (244, {'station': 'Arsenal'}), (0, {'station': 'Baker Street'}), (25, {'station': 'Bank'}), (77, {'station': 'Barbican'}), (100, {'station': 'Barons Court'})]\n"
     ]
    }
   ],
   "source": [
    "#2.Do the mapping with id in g_shp_un\n",
    "mapping = {g_shp_un.nodes[i]['station']:i for i in g_shp_un.nodes()}\n",
    "g_OD = nx.relabel_nodes(g_OD, mapping)\n",
    "print(list(g_OD.nodes(data=True))[:10])"
   ]
  },
  {
   "cell_type": "code",
   "execution_count": 15,
   "metadata": {},
   "outputs": [],
   "source": [
    "#and we can add coordinates to the nodes, from the shapefile of the tube network:\n",
    "nod_coords={(e1):coord for e1, coord in g_shp_un.nodes(data='station_coord')}\n",
    "\n",
    "nx.set_node_attributes(g_OD,nod_coords,'station_coord') #with nod_id1 or nod_id2 is enought\n",
    "\n",
    "pos = {e1: xy for e1,xy in g_OD.nodes(data='station_coord')}\n"
   ]
  },
  {
   "cell_type": "code",
   "execution_count": 16,
   "metadata": {},
   "outputs": [],
   "source": [
    "#Even if we have not considered the weights (we will later on), \n",
    "#this network does not represent the commuting flows, what is happening?\n",
    "\n",
    "#From the Origin Destination network, we need to compute the number of commuters for each pair of stations:\n",
    "#How will we know the path of commuters from their origin to their destinations? \n",
    "#Given that the tube network is undirected and that we do not have information on the different tube lines, \n",
    "#we will assume that commuters use the shortest path between Origin and Destination"
   ]
  },
  {
   "cell_type": "code",
   "execution_count": 17,
   "metadata": {},
   "outputs": [
    {
     "data": {
      "text/plain": [
       "array([[     0.,  96682.,   1560., ...,      0.,      0.,      0.],\n",
       "       [102485.,      0.,      0., ...,      0.,      0.,      0.],\n",
       "       [  1167.,      0.,      0., ...,      0.,      0.,      0.],\n",
       "       ...,\n",
       "       [     0.,      0.,      0., ...,      0.,  34817.,      0.],\n",
       "       [     0.,      0.,      0., ...,  37111.,      0.,      0.],\n",
       "       [     0.,      0.,      0., ...,      0.,      0.,      0.]])"
      ]
     },
     "execution_count": 17,
     "metadata": {},
     "output_type": "execute_result"
    }
   ],
   "source": [
    "#Now, let's create the network with the actual flow of commuters travelling between each pair of stations,\n",
    "#regardless which was their origin and destination:\n",
    "\n",
    "#We will create that graph using the adjacency matrix method that was presented in previous practicals:\n",
    "#First we create an empty adjacency matrix:\n",
    "N=len(g_shp_un.nodes()) #As we are going to use shortest path in the tube network, N is from g_shp_un\n",
    "adj_c=np.zeros((N, N))\n",
    "\n",
    "#Fill the adjacency matrix with Origin-Destination flows:\n",
    "#From origin to destination with x commuters, we will compute the shortest path and fill the number of commuters\n",
    "#for each pair of stations they go through:\n",
    "for e1,e2,C in g_OD.edges(data='total_wtrips'):\n",
    "    path = nx.dijkstra_path(g_shp_un,e1,e2,'distance')  #shortest path e1,e2 taking into account distance weights in g_shp_un\n",
    "    path_edges = list(zip(path,path[1:])) #list of tuples with shortest path edges [(e1,s2),(s3,s4),...,(s(n-1),e2)]\n",
    "    for (s1,s2) in path_edges:\n",
    "            adj_c[s1,s2]=adj_c[s1,s2]+C #sum the contribution of the OD flow to all edges in the shortest path\n",
    "adj_c"
   ]
  },
  {
   "cell_type": "code",
   "execution_count": 18,
   "metadata": {},
   "outputs": [],
   "source": [
    "#Create the new graph from the adjancency matrix:\n",
    "g_flows=nx.from_numpy_matrix(adj_c, create_using=nx.DiGraph)\n"
   ]
  },
  {
   "cell_type": "code",
   "execution_count": 19,
   "metadata": {},
   "outputs": [
    {
     "data": {
      "text/plain": [
       "[(0, {'station_coord': (-0.1571, 51.5226)}),\n",
       " (1, {'station_coord': (-0.1631, 51.5225)}),\n",
       " (2, {'station_coord': (-0.1466, 51.5234)}),\n",
       " (3, {'station_coord': (-0.1247, 51.508)}),\n",
       " (4, {'station_coord': (-0.1223, 51.5074)}),\n",
       " (5, {'station_coord': (-0.1342, 51.5098)}),\n",
       " (6, {'station_coord': (-0.1679, 51.5199)}),\n",
       " (7, {'station_coord': (-0.1755, 51.5154)}),\n",
       " (8, {'station_coord': (-0.1001, 51.4943)}),\n",
       " (9, {'station_coord': (-0.1115, 51.4991)})]"
      ]
     },
     "execution_count": 19,
     "metadata": {},
     "output_type": "execute_result"
    }
   ],
   "source": [
    "#we need to give coordinates to these nodes too:\n",
    "nod_coord = {(e1):coord for e1,coord in g_shp_un.nodes(data='station_coord')}\n",
    "nx.set_node_attributes(g_flows,nod_coord,'station_coord')\n",
    "list(g_flows.nodes(data=True))[0:10]"
   ]
  },
  {
   "cell_type": "code",
   "execution_count": 20,
   "metadata": {},
   "outputs": [
    {
     "data": {
      "text/plain": [
       "[(0, {'station_coord': (-0.1571, 51.5226), 'station': 'Baker Street'}),\n",
       " (1, {'station_coord': (-0.1631, 51.5225), 'station': 'Marylebone'}),\n",
       " (2, {'station_coord': (-0.1466, 51.5234), 'station': \"Regent's Park\"}),\n",
       " (3, {'station_coord': (-0.1247, 51.508), 'station': 'Charing Cross'}),\n",
       " (4, {'station_coord': (-0.1223, 51.5074), 'station': 'Embankment'}),\n",
       " (5, {'station_coord': (-0.1342, 51.5098), 'station': 'Picadilly Circus'}),\n",
       " (6, {'station_coord': (-0.1679, 51.5199), 'station': 'Edgware Road (B)'}),\n",
       " (7, {'station_coord': (-0.1755, 51.5154), 'station': 'Paddington'}),\n",
       " (8, {'station_coord': (-0.1001, 51.4943), 'station': 'Elephant & Castle'}),\n",
       " (9, {'station_coord': (-0.1115, 51.4991), 'station': 'Lambeth North'})]"
      ]
     },
     "execution_count": 20,
     "metadata": {},
     "output_type": "execute_result"
    }
   ],
   "source": [
    "#also the station names:\n",
    "nod_names = {(e1):name for e1,name in g_shp_un.nodes(data='station')}\n",
    "nx.set_node_attributes(g_flows,nod_names,'station')\n",
    "list(g_flows.nodes(data=True))[0:10]"
   ]
  },
  {
   "cell_type": "markdown",
   "metadata": {},
   "source": [
    "### Search from node/edge"
   ]
  },
  {
   "cell_type": "code",
   "execution_count": 21,
   "metadata": {},
   "outputs": [
    {
     "data": {
      "text/plain": [
       "[(168, 'Kilburn')]"
      ]
     },
     "execution_count": 21,
     "metadata": {},
     "output_type": "execute_result"
    }
   ],
   "source": [
    "#We can search for nodes in the flow network\n",
    "#node\n",
    "node = [(x,y) for x,y in g_flows.nodes(data='station') if y=='Kilburn']\n",
    "node"
   ]
  },
  {
   "cell_type": "code",
   "execution_count": 22,
   "metadata": {},
   "outputs": [
    {
     "name": "stdout",
     "output_type": "stream",
     "text": [
      "[(19, 'Kilburn Park'), (168, 'Kilburn')]\n"
     ]
    },
    {
     "data": {
      "text/plain": [
       "({'station_coord': (-0.1939, 51.5351), 'station': 'Kilburn Park'},\n",
       " {'station_coord': (-0.2047, 51.5471), 'station': 'Kilburn'})"
      ]
     },
     "execution_count": 22,
     "metadata": {},
     "output_type": "execute_result"
    }
   ],
   "source": [
    "#or if you do not know how exacly it is written:\n",
    "node2 = [(x,y) for x,y in g_flows.nodes(data='station') if 'Kil' in str(y)]\n",
    "print(node2)\n",
    "g_flows.nodes[19],g_flows.nodes[168] #the IDs may change for Python3/Python2 depending on the order of appearance"
   ]
  },
  {
   "cell_type": "code",
   "execution_count": 23,
   "metadata": {},
   "outputs": [
    {
     "name": "stdout",
     "output_type": "stream",
     "text": [
      "(0, 1, {'weight': 96682.0, 'station_names': ('Baker Street', 'Marylebone')})\n"
     ]
    }
   ],
   "source": [
    "#as edges are saved using the IDs, let us create an edges attribute with the station names:\n",
    "edges_names={(e1,e2):(g_flows.nodes[e1]['station'],g_flows.nodes[e2]['station']) for e1,e2 in g_flows.edges()}\n",
    "\n",
    "nx.set_edge_attributes(g_flows,edges_names,'station_names') \n",
    "print(list(g_flows.edges(data=True))[0])"
   ]
  },
  {
   "cell_type": "code",
   "execution_count": 24,
   "metadata": {},
   "outputs": [
    {
     "name": "stdout",
     "output_type": "stream",
     "text": [
      "[(17, 19), (19, 17), (19, 20), (20, 19)]\n"
     ]
    }
   ],
   "source": [
    "#now, we can search edges by names, as for example all edges comming to and leaving from Kilburn Park:\n",
    "edge = [(e1,e2) for e1,e2,y in g_flows.edges(data='station_names') if 'Kilburn Park' in str(y)]\n",
    "print(edge)\n"
   ]
  },
  {
   "cell_type": "code",
   "execution_count": 25,
   "metadata": {},
   "outputs": [
    {
     "data": {
      "text/plain": [
       "{'weight': 22009.0, 'station_names': (\"Queen's Park\", 'Kilburn Park')}"
      ]
     },
     "execution_count": 25,
     "metadata": {},
     "output_type": "execute_result"
    }
   ],
   "source": [
    "g_flows.edges[(17, 19)] #Again, the IDs may change for Python3/Python2 depending on the order of appearance"
   ]
  },
  {
   "cell_type": "code",
   "execution_count": 26,
   "metadata": {},
   "outputs": [
    {
     "data": {
      "text/plain": [
       "{'weight': 14048.0, 'station_names': ('Kilburn Park', \"Queen's Park\")}"
      ]
     },
     "execution_count": 26,
     "metadata": {},
     "output_type": "execute_result"
    }
   ],
   "source": [
    "g_flows.edges[(19, 17)] #Again, the IDs may change for Python3/Python2 depending on the order of appearance"
   ]
  },
  {
   "cell_type": "code",
   "execution_count": 27,
   "metadata": {},
   "outputs": [
    {
     "data": {
      "text/plain": [
       "[(0, {'station_coord': (-0.1571, 51.5226), 'station': 'Baker Street'}),\n",
       " (1, {'station_coord': (-0.1631, 51.5225), 'station': 'Marylebone'}),\n",
       " (2, {'station_coord': (-0.1466, 51.5234), 'station': \"Regent's Park\"})]"
      ]
     },
     "execution_count": 27,
     "metadata": {},
     "output_type": "execute_result"
    }
   ],
   "source": [
    "list(g_flows.nodes(data = True))[0:3]"
   ]
  },
  {
   "cell_type": "code",
   "execution_count": 28,
   "metadata": {},
   "outputs": [
    {
     "data": {
      "text/plain": [
       "[(0, 1, {'weight': 96682.0, 'station_names': ('Baker Street', 'Marylebone')}),\n",
       " (0,\n",
       "  2,\n",
       "  {'weight': 1560.0, 'station_names': ('Baker Street', \"Regent's Park\")}),\n",
       " (0,\n",
       "  33,\n",
       "  {'weight': 126001.0, 'station_names': ('Baker Street', 'Bond Street')})]"
      ]
     },
     "execution_count": 28,
     "metadata": {},
     "output_type": "execute_result"
    }
   ],
   "source": [
    "list(g_flows.edges(data = True))[0:3]"
   ]
  },
  {
   "cell_type": "markdown",
   "metadata": {},
   "source": [
    "### Degree Centrality\n",
    "\n",
    "Let's explore the commuting flows network with some exercises on different type of centrality measures and disruptions on the network. Keep in mind that this network is a directed network and nodes and edges centrality depends on the direction of the flows."
   ]
  },
  {
   "cell_type": "code",
   "execution_count": 29,
   "metadata": {},
   "outputs": [],
   "source": [
    "# degree centrality: \n",
    "deg_london=nx.degree(g_flows)\n",
    "# We can add these values to the nodes attributes:\n",
    "nx.set_node_attributes(g_flows,dict(deg_london),'degree')"
   ]
  },
  {
   "cell_type": "code",
   "execution_count": 30,
   "metadata": {},
   "outputs": [],
   "source": [
    "# centrality for directed commuting flows:\n",
    "deg_w=nx.degree_centrality(g_flows)\n",
    "nx.set_node_attributes(g_flows,deg_w,'degree_flows')"
   ]
  },
  {
   "cell_type": "code",
   "execution_count": 31,
   "metadata": {},
   "outputs": [
    {
     "data": {
      "text/plain": [
       "[(0,\n",
       "  {'station_coord': (-0.1571, 51.5226),\n",
       "   'station': 'Baker Street',\n",
       "   'degree': 14,\n",
       "   'degree_flows': 0.04590163934426229}),\n",
       " (88,\n",
       "  {'station_coord': (-0.1238, 51.5308),\n",
       "   'station': \"King's Cross St. Pancras\",\n",
       "   'degree': 14,\n",
       "   'degree_flows': 0.04590163934426229}),\n",
       " (10,\n",
       "  {'station_coord': (-0.1143, 51.5036),\n",
       "   'station': 'Waterloo',\n",
       "   'degree': 12,\n",
       "   'degree_flows': 0.039344262295081964}),\n",
       " (24,\n",
       "  {'station_coord': (-0.1415, 51.515),\n",
       "   'station': 'Oxford Circus',\n",
       "   'degree': 12,\n",
       "   'degree_flows': 0.039344262295081964}),\n",
       " (25,\n",
       "  {'station_coord': (-0.0886, 51.5133),\n",
       "   'station': 'Bank',\n",
       "   'degree': 12,\n",
       "   'degree_flows': 0.039344262295081964}),\n",
       " (155,\n",
       "  {'station_coord': (-0.1428, 51.5067),\n",
       "   'station': 'Green Park',\n",
       "   'degree': 12,\n",
       "   'degree_flows': 0.039344262295081964}),\n",
       " (116,\n",
       "  {'station_coord': (-0.1973, 51.492),\n",
       "   'station': \"Earl's Court\",\n",
       "   'degree': 11,\n",
       "   'degree_flows': 0.036065573770491806}),\n",
       " (7,\n",
       "  {'station_coord': (-0.1755, 51.5154),\n",
       "   'station': 'Paddington',\n",
       "   'degree': 10,\n",
       "   'degree_flows': 0.03278688524590164}),\n",
       " (26,\n",
       "  {'station_coord': (-0.0823, 51.5178),\n",
       "   'station': 'Liverpool Street',\n",
       "   'degree': 10,\n",
       "   'degree_flows': 0.03278688524590164}),\n",
       " (112,\n",
       "  {'station_coord': (-0.2547, 51.4951),\n",
       "   'station': 'Turnham Green',\n",
       "   'degree': 10,\n",
       "   'degree_flows': 0.03278688524590164})]"
      ]
     },
     "execution_count": 31,
     "metadata": {},
     "output_type": "execute_result"
    }
   ],
   "source": [
    "# top 10 nodes with highest centrality values\n",
    "dict_deg_flows=dict(g_flows.nodes(data=True))\n",
    "from collections import OrderedDict\n",
    "listdeg_flows=OrderedDict(sorted(dict_deg_flows.items(), key=lambda x: x[1]['degree_flows'],reverse=True))\n",
    "list(listdeg_flows.items())[:10]"
   ]
  },
  {
   "cell_type": "code",
   "execution_count": 32,
   "metadata": {},
   "outputs": [
    {
     "name": "stdout",
     "output_type": "stream",
     "text": [
      "Baker Street\n",
      "King's Cross St. Pancras\n",
      "Waterloo\n",
      "Green Park\n",
      "Bank\n",
      "Oxford Circus\n",
      "Earl's Court\n",
      "Turnham Green\n",
      "Liverpool Street\n",
      "Paddington\n"
     ]
    }
   ],
   "source": [
    "# just the station names\n",
    "DC=pd.DataFrame.from_dict(deg_w,columns=['degree_flows'],orient='index')\n",
    "maxdeg10=DC.sort_values(by=['degree_flows'],ascending=False)[:10]\n",
    "maxdeg10 = maxdeg10.index.tolist()\n",
    "for i in maxdeg10:\n",
    "    print(g_flows.nodes[i]['station'])"
   ]
  },
  {
   "cell_type": "code",
   "execution_count": 33,
   "metadata": {},
   "outputs": [
    {
     "data": {
      "image/png": "[encoded data removed]",
      "text/plain": [
       "<Figure size 864x864 with 2 Axes>"
      ]
     },
     "metadata": {
      "needs_background": "light"
     },
     "output_type": "display_data"
    },
    {
     "data": {
      "text/plain": [
       "<Figure size 432x288 with 0 Axes>"
      ]
     },
     "metadata": {},
     "output_type": "display_data"
    }
   ],
   "source": [
    "# 1. Plot directed original graph by nodes\n",
    "deg_w_val=[(i[1]['degree_flows']) for i in g_flows.nodes(data=True)]\n",
    "\n",
    "deg_w_color=[(i[1]['degree_flows']/max(deg_w_val)) for i in g_flows.nodes(data=True)]\n",
    "deg_w_size=[(i[1]['degree_flows']/max(deg_w_val)*50) for i in g_flows.nodes(data=True)]\n",
    "\n",
    "fig, ax = plt.subplots(figsize=(12,12))\n",
    "\n",
    "pos = {e1: xy for e1,xy in g_shp_un.nodes(data='station_coord')}\n",
    "\n",
    "edg=nx.draw_networkx_edges(g_flows, pos,edge_color='gray', width=0.2)\n",
    "\n",
    "nod=nx.draw_networkx_nodes(g_flows,\n",
    "        pos = pos,\n",
    "        node_color= deg_w_color,\n",
    "        node_size= deg_w_size)\n",
    "\n",
    "plt.axis(\"off\")\n",
    "plt.colorbar(nod,label=\"Degree Centrality\",orientation=\"horizontal\", shrink=0.5)\n",
    "plt.axis(\"off\")\n",
    "plt.title(\"Original London Commter Flow (DC)\",fontsize=15)\n",
    "fig1 = plt.gcf()\n",
    "plt.show()\n",
    "plt.draw()\n",
    "fig1.savefig('p2_DC1.png', dpi=100)"
   ]
  },
  {
   "cell_type": "markdown",
   "metadata": {},
   "source": [
    "### Sequential removal"
   ]
  },
  {
   "cell_type": "code",
   "execution_count": 34,
   "metadata": {},
   "outputs": [
    {
     "data": {
      "text/plain": [
       "306"
      ]
     },
     "execution_count": 34,
     "metadata": {},
     "output_type": "execute_result"
    }
   ],
   "source": [
    "l1=list(g_shp_un.nodes)\n",
    "len(l1)"
   ]
  },
  {
   "cell_type": "code",
   "execution_count": 35,
   "metadata": {},
   "outputs": [
    {
     "name": "stdout",
     "output_type": "stream",
     "text": [
      "Baker Street\n",
      "King's Cross St. Pancras\n",
      "Waterloo\n",
      "Oxford Circus\n",
      "Earl's Court\n",
      "Paddington\n",
      "Bank\n",
      "Turnham Green\n",
      "Green Park\n",
      "Liverpool Street\n",
      "[0, 88, 10, 24, 116, 7, 25, 112, 155, 26]\n"
     ]
    }
   ],
   "source": [
    "nodes=[]\n",
    "for i in range (10):\n",
    "    a = nx.get_node_attributes(g_flows,'degree_flows')\n",
    "    for n in g_flows:\n",
    "        if a[n] == max(deg_w.values()):\n",
    "            print(g_flows.nodes[n]['station'])\n",
    "            nodes.append(n)\n",
    "            g_flows.remove_node(n)\n",
    "            deg_w=nx.degree_centrality(g_flows)\n",
    "            nx.set_node_attributes(g_flows,deg_w,'degree_flows')\n",
    "            break\n",
    "print(nodes)"
   ]
  },
  {
   "cell_type": "code",
   "execution_count": 36,
   "metadata": {},
   "outputs": [
    {
     "name": "stdout",
     "output_type": "stream",
     "text": [
      "Name: \n",
      "Type: DiGraph\n",
      "Number of nodes: 296\n",
      "Number of edges: 540\n",
      "Average in degree:   1.8243\n",
      "Average out degree:   1.8243\n"
     ]
    }
   ],
   "source": [
    "print(nx.info(g_flows))"
   ]
  },
  {
   "cell_type": "code",
   "execution_count": 37,
   "metadata": {},
   "outputs": [
    {
     "data": {
      "image/png": "[encoded data removed]",
      "text/plain": [
       "<Figure size 864x864 with 2 Axes>"
      ]
     },
     "metadata": {
      "needs_background": "light"
     },
     "output_type": "display_data"
    },
    {
     "data": {
      "text/plain": [
       "<Figure size 432x288 with 0 Axes>"
      ]
     },
     "metadata": {},
     "output_type": "display_data"
    }
   ],
   "source": [
    "# after removal plot\n",
    "deg_w_val=[(i[1]['degree_flows']) for i in g_flows.nodes(data=True)]\n",
    "\n",
    "deg_w_color=[(i[1]['degree_flows']/max(deg_w_val)) for i in g_flows.nodes(data=True)]\n",
    "deg_w_size=[(i[1]['degree_flows']/max(deg_w_val)*50) for i in g_flows.nodes(data=True)]\n",
    "\n",
    "fig, ax = plt.subplots(figsize=(12,12))\n",
    "\n",
    "pos = {e1: xy for e1,xy in g_shp_un.nodes(data='station_coord')}\n",
    "\n",
    "edg=nx.draw_networkx_edges(g_flows, pos,edge_color='gray', width=0.2)\n",
    "\n",
    "nod=nx.draw_networkx_nodes(g_flows,\n",
    "        pos = pos,\n",
    "        node_color= deg_w_color,\n",
    "        node_size= deg_w_size)\n",
    "\n",
    "plt.axis(\"off\")\n",
    "plt.colorbar(nod,label=\"Degree Centrality Commuting Flows\",orientation=\"horizontal\", shrink=0.5)\n",
    "plt.axis(\"off\")\n",
    "plt.title(\"London Commuter Flow After Sequential Removal (DC)\",fontsize=15)\n",
    "\n",
    "fig1 = plt.gcf()\n",
    "plt.show()\n",
    "plt.draw()\n",
    "fig1.savefig('p2_DC2.png', dpi=100)"
   ]
  },
  {
   "cell_type": "markdown",
   "metadata": {},
   "source": [
    "### Analysis"
   ]
  },
  {
   "cell_type": "code",
   "execution_count": 38,
   "metadata": {},
   "outputs": [
    {
     "data": {
      "text/plain": [
       "39"
      ]
     },
     "execution_count": 38,
     "metadata": {},
     "output_type": "execute_result"
    }
   ],
   "source": [
    "# 1. all connected components \n",
    "components = [len(c) for c in sorted(nx.strongly_connected_components(g_flows), key=len, reverse=True)]\n",
    "len(components) # there are 36 strong components in the network"
   ]
  },
  {
   "cell_type": "code",
   "execution_count": 39,
   "metadata": {},
   "outputs": [],
   "source": [
    "# 2. strongest component:\n",
    "strong_component = max(nx.strongly_connected_components(g_flows), key=len)\n",
    "G = g_flows.subgraph(strong_component)"
   ]
  },
  {
   "cell_type": "code",
   "execution_count": 40,
   "metadata": {},
   "outputs": [
    {
     "name": "stdout",
     "output_type": "stream",
     "text": [
      "Name: \n",
      "Type: DiGraph\n",
      "Number of nodes: 205\n",
      "Number of edges: 434\n",
      "Average in degree:   2.1171\n",
      "Average out degree:   2.1171\n"
     ]
    }
   ],
   "source": [
    "print(nx.info(G))  # the largest connected component has 122 nodes remaining left"
   ]
  },
  {
   "cell_type": "code",
   "execution_count": 41,
   "metadata": {},
   "outputs": [
    {
     "data": {
      "text/plain": [
       "57"
      ]
     },
     "execution_count": 41,
     "metadata": {},
     "output_type": "execute_result"
    }
   ],
   "source": [
    "# 3. unweighted diameter\n",
    "nx.diameter(G)"
   ]
  },
  {
   "cell_type": "code",
   "execution_count": 42,
   "metadata": {},
   "outputs": [
    {
     "data": {
      "text/plain": [
       "57"
      ]
     },
     "execution_count": 42,
     "metadata": {},
     "output_type": "execute_result"
    }
   ],
   "source": [
    "# 4. weighted (distance) diameter\n",
    "nlen = {n:nx.single_source_dijkstra_path_length(G, n, weight='degree_flows') \n",
    "        for n in G.nodes() }\n",
    "e = nx.eccentricity(G,sp=nlen)\n",
    "d = nx.diameter(G, e)\n",
    "d"
   ]
  },
  {
   "cell_type": "code",
   "execution_count": 43,
   "metadata": {},
   "outputs": [
    {
     "data": {
      "image/png": "[encoded data removed]",
      "text/plain": [
       "<Figure size 864x864 with 2 Axes>"
      ]
     },
     "metadata": {
      "needs_background": "light"
     },
     "output_type": "display_data"
    },
    {
     "data": {
      "text/plain": [
       "<Figure size 432x288 with 0 Axes>"
      ]
     },
     "metadata": {},
     "output_type": "display_data"
    }
   ],
   "source": [
    "# largest component plot\n",
    "deg_w_val=[(i[1]['degree_flows']) for i in G.nodes(data=True)]\n",
    "\n",
    "deg_w_color=[(i[1]['degree_flows']/max(deg_w_val)) for i in G.nodes(data=True)]\n",
    "deg_w_size=[(i[1]['degree_flows']/max(deg_w_val)*50) for i in G.nodes(data=True)]\n",
    "\n",
    "fig, ax = plt.subplots(figsize=(12,12))\n",
    "\n",
    "pos = {e1: xy for e1,xy in G.nodes(data='station_coord')}\n",
    "\n",
    "edg=nx.draw_networkx_edges(G, pos,edge_color='gray', width=0.2)\n",
    "\n",
    "nod=nx.draw_networkx_nodes(G,\n",
    "        pos = pos,\n",
    "        node_color= deg_w_color,\n",
    "        node_size= deg_w_size)\n",
    "\n",
    "plt.axis(\"off\")\n",
    "plt.colorbar(nod,label=\"Degree Centrality\",orientation=\"horizontal\", shrink=0.5)\n",
    "plt.axis(\"off\")\n",
    "plt.title(\"LCC After Sequential Removal (DC)\",fontsize=15)\n",
    "fig1 = plt.gcf()\n",
    "plt.show()\n",
    "plt.draw()\n",
    "fig1.savefig('p2_DC3.png', dpi=100)"
   ]
  },
  {
   "cell_type": "code",
   "execution_count": null,
   "metadata": {},
   "outputs": [],
   "source": []
  },
  {
   "cell_type": "code",
   "execution_count": null,
   "metadata": {},
   "outputs": [],
   "source": []
  },
  {
   "cell_type": "code",
   "execution_count": null,
   "metadata": {},
   "outputs": [],
   "source": []
  },
  {
   "cell_type": "code",
   "execution_count": null,
   "metadata": {},
   "outputs": [],
   "source": []
  },
  {
   "cell_type": "code",
   "execution_count": null,
   "metadata": {},
   "outputs": [],
   "source": []
  },
  {
   "cell_type": "code",
   "execution_count": null,
   "metadata": {},
   "outputs": [],
   "source": []
  },
  {
   "cell_type": "code",
   "execution_count": null,
   "metadata": {},
   "outputs": [],
   "source": []
  },
  {
   "cell_type": "code",
   "execution_count": null,
   "metadata": {},
   "outputs": [],
   "source": []
  },
  {
   "cell_type": "code",
   "execution_count": null,
   "metadata": {},
   "outputs": [],
   "source": []
  },
  {
   "cell_type": "code",
   "execution_count": null,
   "metadata": {},
   "outputs": [],
   "source": []
  },
  {
   "cell_type": "code",
   "execution_count": null,
   "metadata": {},
   "outputs": [],
   "source": []
  },
  {
   "cell_type": "code",
   "execution_count": null,
   "metadata": {},
   "outputs": [],
   "source": []
  }
 ],
 "metadata": {
  "kernelspec": {
   "display_name": "urbsim",
   "language": "python",
   "name": "urbsim"
  },
  "language_info": {
   "codemirror_mode": {
    "name": "ipython",
    "version": 3
   },
   "file_extension": ".py",
   "mimetype": "text/x-python",
   "name": "python",
   "nbconvert_exporter": "python",
   "pygments_lexer": "ipython3",
   "version": "3.7.9"
  }
 },
 "nbformat": 4,
 "nbformat_minor": 2
}
